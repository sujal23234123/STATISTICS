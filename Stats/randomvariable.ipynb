{
 "cells": [
  {
   "cell_type": "code",
   "execution_count": 14,
   "id": "612cd948",
   "metadata": {},
   "outputs": [
    {
     "name": "stdout",
     "output_type": "stream",
     "text": [
      "you diced : 3\n",
      "the height is : 156.92\n"
     ]
    }
   ],
   "source": [
    "import random \n",
    "#discrete variable\n",
    "dice_roll=random.randint(1,6)\n",
    "print(\"you diced :\",dice_roll)\n",
    "\n",
    "\n",
    "import random\n",
    "#contineous variable\n",
    "height=random.uniform(150,170)\n",
    "print(\"the height is :\",round(height,2))\n"
   ]
  },
  {
   "cell_type": "code",
   "execution_count": null,
   "id": "931d16cc",
   "metadata": {},
   "outputs": [],
   "source": []
  },
  {
   "cell_type": "code",
   "execution_count": null,
   "id": "534e74b4",
   "metadata": {},
   "outputs": [],
   "source": []
  }
 ],
 "metadata": {
  "kernelspec": {
   "display_name": "Python 3",
   "language": "python",
   "name": "python3"
  },
  "language_info": {
   "codemirror_mode": {
    "name": "ipython",
    "version": 3
   },
   "file_extension": ".py",
   "mimetype": "text/x-python",
   "name": "python",
   "nbconvert_exporter": "python",
   "pygments_lexer": "ipython3",
   "version": "3.12.0"
  }
 },
 "nbformat": 4,
 "nbformat_minor": 5
}
