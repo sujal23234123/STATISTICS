{
 "cells": [
  {
   "cell_type": "markdown",
   "id": "2e8bbdf7",
   "metadata": {},
   "source": [
    "METHOD 1-CALCULATING MEAN \n"
   ]
  },
  {
   "cell_type": "code",
   "execution_count": 1,
   "id": "9d627aa4",
   "metadata": {},
   "outputs": [
    {
     "name": "stdout",
     "output_type": "stream",
     "text": [
      "population mean : 376.8\n",
      "sample mean : 191.33333333333334\n"
     ]
    }
   ],
   "source": [
    "population_mean=[200,340,345,654,345]\n",
    "sample_mean=[454,65,55]\n",
    "\n",
    "population_result=sum(population_mean)/len(population_mean)\n",
    "sample_result=sum(sample_mean)/len(sample_mean)\n",
    "\n",
    "print(\"population mean :\",population_result)\n",
    "print(\"sample mean :\",sample_result)"
   ]
  },
  {
   "cell_type": "markdown",
   "id": "89bf2ceb",
   "metadata": {},
   "source": [
    "METHOD 2-CALCULATING MEAN USING NUMPY LIBRARY\n"
   ]
  },
  {
   "cell_type": "code",
   "execution_count": 2,
   "id": "00421103",
   "metadata": {},
   "outputs": [
    {
     "name": "stdout",
     "output_type": "stream",
     "text": [
      "the mean of data is  : 53.375\n"
     ]
    }
   ],
   "source": [
    "import numpy as np\n",
    "\n",
    "data=[55,44,24,65,78,32,64,65]\n",
    "\n",
    "mean=np.mean(data)\n",
    "\n",
    "print(\"the mean of data is  :\",mean)"
   ]
  },
  {
   "cell_type": "markdown",
   "id": "284a6e70",
   "metadata": {},
   "source": [
    "METHOD 3-USING STATISTICS LIBRARY"
   ]
  },
  {
   "cell_type": "code",
   "execution_count": 5,
   "id": "15093272",
   "metadata": {},
   "outputs": [
    {
     "name": "stdout",
     "output_type": "stream",
     "text": [
      "the mean of data1 is : 48\n"
     ]
    }
   ],
   "source": [
    "import statistics as stats\n",
    "\n",
    "data1=[43,53,54,34,23,48,54,66,77,44,32]\n",
    "\n",
    "mean=stats.mean(data1)\n",
    "\n",
    "print(\"the mean of data1 is :\",mean)"
   ]
  },
  {
   "cell_type": "markdown",
   "id": "8779e941",
   "metadata": {},
   "source": [
    "LOADING DATASET AND THEN CALCULATE MEAN\n"
   ]
  },
  {
   "cell_type": "code",
   "execution_count": 10,
   "id": "1dc487ce",
   "metadata": {},
   "outputs": [
    {
     "name": "stdout",
     "output_type": "stream",
     "text": [
      "the mean of iris saple_width is : 3.0573333333333337\n"
     ]
    }
   ],
   "source": [
    "import seaborn as sns\n",
    "import numpy as np\n",
    "\n",
    "iris=sns.load_dataset(\"iris\")\n",
    "iris\n",
    "iris.head(5)\n",
    "\n",
    "iris_mean=np.mean(iris[\"sepal_width\"])\n",
    "print(\"the mean of iris saple_width is :\",iris_mean)"
   ]
  },
  {
   "cell_type": "code",
   "execution_count": 9,
   "id": "dbfaebd8",
   "metadata": {},
   "outputs": [
    {
     "name": "stdout",
     "output_type": "stream",
     "text": [
      "the mean of data is : 41.25\n",
      "the mean of data is : 41.25\n",
      "the mean of data is : 3.0573333333333337\n"
     ]
    }
   ],
   "source": [
    "#practice\n",
    "\n",
    "#numpy\n",
    "import numpy as np\n",
    "\n",
    "data=[34,22,45,23,56,76,21,53]\n",
    "\n",
    "meanofdata1=np.mean(data)\n",
    "print(\"the mean of data is :\",meanofdata1)\n",
    "\n",
    "#stats\n",
    "import statistics as stats\n",
    "\n",
    "data=[34,22,45,23,56,76,21,53]\n",
    "\n",
    "meanofdata2=stats.mean(data)\n",
    "print(\"the mean of data is :\",meanofdata2)\n",
    "\n",
    "#seaborn\n",
    "\n",
    "import numpy as np\n",
    "import seaborn as sns\n",
    "\n",
    "data=sns.load_dataset(\"iris\")\n",
    "meanofdata3=np.mean(data[\"sepal_width\"])\n",
    "print(\"the mean of data is :\",meanofdata3)"
   ]
  },
  {
   "cell_type": "code",
   "execution_count": 10,
   "id": "959894f3",
   "metadata": {},
   "outputs": [
    {
     "name": "stdout",
     "output_type": "stream",
     "text": [
      "the mean of numpy data is : 47.8\n",
      "the mean of stats data is : 47.8\n",
      "the mean of seaborn data is : 3.0573333333333337\n"
     ]
    }
   ],
   "source": [
    "#practice\n",
    "\n",
    "\n",
    "import numpy as np \n",
    "import statistics as stats\n",
    "import seaborn as sns\n",
    "\n",
    "data=[34,56,68,45,67,22,55,23,67,44,88,43,12,15,78]\n",
    "numpymean=np.mean(data)\n",
    "statsmean=stats.mean(data)\n",
    "seaborndata=sns.load_dataset(\"iris\")\n",
    "meanofseaborn=np.mean(seaborndata[\"sepal_width\"])\n",
    "print(\"the mean of numpy data is :\",numpymean)\n",
    "print(\"the mean of stats data is :\",statsmean)\n",
    "print(\"the mean of seaborn data is :\",meanofseaborn)"
   ]
  }
 ],
 "metadata": {
  "kernelspec": {
   "display_name": "Python 3",
   "language": "python",
   "name": "python3"
  },
  "language_info": {
   "codemirror_mode": {
    "name": "ipython",
    "version": 3
   },
   "file_extension": ".py",
   "mimetype": "text/x-python",
   "name": "python",
   "nbconvert_exporter": "python",
   "pygments_lexer": "ipython3",
   "version": "3.12.0"
  }
 },
 "nbformat": 4,
 "nbformat_minor": 5
}
