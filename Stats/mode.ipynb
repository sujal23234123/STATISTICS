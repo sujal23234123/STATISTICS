{
 "cells": [
  {
   "cell_type": "markdown",
   "id": "a86d11e0",
   "metadata": {},
   "source": [
    "METHOD1 -USING STATISTICS"
   ]
  },
  {
   "cell_type": "code",
   "execution_count": 2,
   "id": "6105195a",
   "metadata": {},
   "outputs": [
    {
     "name": "stdout",
     "output_type": "stream",
     "text": [
      "the mode of data is : 66\n",
      "the mode of data is : [18, 19]\n"
     ]
    }
   ],
   "source": [
    "import statistics as stats\n",
    "\n",
    "data=[34,5,35,66,55,22,56,56,56,66,66,34,66,66,78,99,98]\n",
    "\n",
    "mode=stats.mode(data)\n",
    "\n",
    "print(\"the mode of data is :\",mode)\n",
    "\n",
    "\n",
    "#milti mode\n",
    "import statistics as stats\n",
    "\n",
    "data=[12,13,14,15,16,17,18,18,18,18,18,19,19,19,19,19,20,20]\n",
    "\n",
    "mode=stats.multimode(data)\n",
    "\n",
    "print(\"the mode of data is :\",mode)"
   ]
  },
  {
   "cell_type": "markdown",
   "id": "72294d31",
   "metadata": {},
   "source": [
    "METHOD 2-USING SCIPY LIBRARY"
   ]
  },
  {
   "cell_type": "code",
   "execution_count": 1,
   "id": "1089aea7",
   "metadata": {},
   "outputs": [
    {
     "name": "stdout",
     "output_type": "stream",
     "text": [
      "the mode of the data is :  ModeResult(mode=np.int64(18), count=np.int64(5))\n"
     ]
    }
   ],
   "source": [
    "from scipy import stats\n",
    "\n",
    "data=[12,13,14,15,16,17,18,18,18,18,18,19,19,19,19,19,20,20]\n",
    "\n",
    "mode=stats.mode(data)\n",
    "\n",
    "print(\"the mode of the data is : \",mode)\n",
    "\n"
   ]
  },
  {
   "cell_type": "code",
   "execution_count": 6,
   "id": "9bbbf308",
   "metadata": {},
   "outputs": [
    {
     "name": "stdout",
     "output_type": "stream",
     "text": [
      "the mode of data is : 34\n",
      "the mode of data is : ModeResult(mode=np.int64(34), count=np.int64(4))\n",
      "the multimode is : [34, 54]\n"
     ]
    }
   ],
   "source": [
    "#practice\n",
    "\n",
    "import statistics as stats\n",
    "\n",
    "data=[23,34,65,43,12,54,67,54,23,54,67,78,34,12,34,45,46,67,43,34,22]\n",
    "\n",
    "mode1=stats.mode(data)\n",
    "print(\"the mode of data is :\",mode1)\n",
    "\n",
    "#scipy\n",
    "\n",
    "from scipy import stats\n",
    "data=[23,34,65,43,12,54,67,54,23,54,67,78,34,12,34,45,46,67,43,34,22]\n",
    "\n",
    "mode2=stats.mode(data)\n",
    "print(\"the mode of data is :\",mode2)\n",
    "\n",
    "#multimode\n",
    "\n",
    "import statistics as stats\n",
    "data=[23,34,65,43,12,54,54,54,67,23,54,67,78,34,12,34,45,46,67,43,34,22]\n",
    "\n",
    "multimode=stats.multimode(data)\n",
    "print(\"the multimode is :\",multimode)\n"
   ]
  },
  {
   "cell_type": "code",
   "execution_count": 10,
   "id": "5c20304b",
   "metadata": {},
   "outputs": [
    {
     "name": "stdout",
     "output_type": "stream",
     "text": [
      "the mode of data is : ModeResult(mode=np.int64(34), count=np.int64(4))\n",
      "the mode of data is : ModeResult(mode=np.int64(34), count=np.int64(4))\n"
     ]
    }
   ],
   "source": [
    "#practice 2\n",
    "\n",
    "import statistics as stats\n",
    "from scipy import stats\n",
    "\n",
    "data=[23,34,65,43,12,54,54,54,67,23,54,67,78,34,12,34,45,46,67,43,34,22]\n",
    "\n",
    "mode3=stats.mode(data)\n",
    "mode4=stats.mode(data)\n",
    "#multimode2=stats.multimode(data)\n",
    "\n",
    "print(\"the mode of data is :\",mode3)\n",
    "print(\"the mode of data is :\",mode4)\n",
    "#print(\"the multimode of data is :\",multimode2)"
   ]
  },
  {
   "cell_type": "code",
   "execution_count": null,
   "id": "3a48decd",
   "metadata": {},
   "outputs": [],
   "source": []
  }
 ],
 "metadata": {
  "kernelspec": {
   "display_name": "Python 3",
   "language": "python",
   "name": "python3"
  },
  "language_info": {
   "codemirror_mode": {
    "name": "ipython",
    "version": 3
   },
   "file_extension": ".py",
   "mimetype": "text/x-python",
   "name": "python",
   "nbconvert_exporter": "python",
   "pygments_lexer": "ipython3",
   "version": "3.12.0"
  }
 },
 "nbformat": 4,
 "nbformat_minor": 5
}
