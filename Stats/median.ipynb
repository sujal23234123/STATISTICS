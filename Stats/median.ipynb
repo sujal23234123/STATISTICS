{
 "cells": [
  {
   "cell_type": "markdown",
   "id": "8cfa527a",
   "metadata": {},
   "source": [
    "METHOD 1-USING NUMPY"
   ]
  },
  {
   "cell_type": "code",
   "execution_count": 2,
   "id": "aa67a3ea",
   "metadata": {},
   "outputs": [
    {
     "name": "stdout",
     "output_type": "stream",
     "text": [
      "the median is  : 38.5\n"
     ]
    }
   ],
   "source": [
    "import numpy as np\n",
    "\n",
    "data=[32,44,55,66,33,22]\n",
    "\n",
    "median1=np.median(data)\n",
    "print(\"the median is  :\",median1)"
   ]
  },
  {
   "cell_type": "markdown",
   "id": "b8c667e3",
   "metadata": {},
   "source": [
    "METHOD 2-USING STSTISTICS LIBARY"
   ]
  },
  {
   "cell_type": "code",
   "execution_count": 6,
   "id": "a6853f2a",
   "metadata": {},
   "outputs": [
    {
     "name": "stdout",
     "output_type": "stream",
     "text": [
      "th median is : 67\n"
     ]
    }
   ],
   "source": [
    "import statistics as stats\n",
    "\n",
    "data2=[23,45,51,67,77,86,95]\n",
    "\n",
    "median2=stats.median(data2)\n",
    "print(\"th median is :\",median2)"
   ]
  },
  {
   "cell_type": "markdown",
   "id": "6af01b6e",
   "metadata": {},
   "source": [
    "METHOD 3-USING PANDAS"
   ]
  },
  {
   "cell_type": "code",
   "execution_count": 7,
   "id": "326b6244",
   "metadata": {},
   "outputs": [
    {
     "name": "stdout",
     "output_type": "stream",
     "text": [
      "   values\n",
      "0      23\n",
      "1      56\n",
      "2      77\n",
      "3      88\n",
      "4      98\n",
      "The median of dataframe is: 77.0\n"
     ]
    }
   ],
   "source": [
    "import pandas as pd\n",
    "\n",
    "df = pd.DataFrame({\"values\": [23, 56, 77, 88, 98]}) \n",
    "print(df)\n",
    "median = df[\"values\"].median()\n",
    "\n",
    "print(\"The median of dataframe is:\", median)"
   ]
  },
  {
   "cell_type": "markdown",
   "id": "ba656aad",
   "metadata": {},
   "source": [
    "METHOD 4-USING SEABORN DATASET"
   ]
  },
  {
   "cell_type": "code",
   "execution_count": 8,
   "id": "3baffdcb",
   "metadata": {},
   "outputs": [
    {
     "name": "stdout",
     "output_type": "stream",
     "text": [
      "the median of dataset of iris is  : 5.8\n"
     ]
    }
   ],
   "source": [
    "import seaborn as sns\n",
    "import numpy as np\n",
    "\n",
    "iris=sns.load_dataset(\"iris\")\n",
    "iris.head()\n",
    "\n",
    "iris_median=np.median(iris[\"sepal_length\"])\n",
    "print(\"the median of dataset of iris is  :\",iris_median)"
   ]
  },
  {
   "cell_type": "code",
   "execution_count": 13,
   "id": "574c317c",
   "metadata": {},
   "outputs": [
    {
     "name": "stdout",
     "output_type": "stream",
     "text": [
      "the meadia of data is : 45.0\n",
      "the median of data is : 45.0\n",
      "the median of data is : 34.0\n",
      "the median of dataset is : 2.9\n"
     ]
    }
   ],
   "source": [
    "#practice\n",
    "\n",
    "#numpy\n",
    "\n",
    "import numpy as np\n",
    "\n",
    "data=[34,54,75,24,44,77,33,77,34,56,12,46]\n",
    "\n",
    "median1=np.median(data)\n",
    "print(\"the meadia of data is :\",median1)\n",
    "\n",
    "#stats\n",
    "\n",
    "import statistics as stats\n",
    "\n",
    "data=[34,54,75,24,44,77,33,77,34,56,12,46]\n",
    "median2=stats.median(data)\n",
    "print(\"the median of data is :\",median2)\n",
    "\n",
    "#pandas\n",
    "\n",
    "import pandas as pd\n",
    "\n",
    "df=pd.DataFrame({\"values\":[34,65,76,34,23]})\n",
    "df\n",
    "median=df[\"values\"].median()\n",
    "print(\"the median of data is :\",median)\n",
    "\n",
    "#seaborn\n",
    "\n",
    "import seaborn as sns\n",
    "import numpy as np\n",
    "\n",
    "dataset=sns.load_dataset(\"tips\")\n",
    "dataset\n",
    "\n",
    "median=np.median(dataset[\"tip\"])\n",
    "print(\"the median of dataset is :\",median)"
   ]
  },
  {
   "cell_type": "code",
   "execution_count": 18,
   "id": "2caa17c2",
   "metadata": {},
   "outputs": [
    {
     "name": "stdout",
     "output_type": "stream",
     "text": [
      "the median of numpy is : 54.0\n",
      "the median of stats is : 54\n",
      "the median of pandas is : 45.0\n",
      "the median of seaborn is : 3.0\n"
     ]
    }
   ],
   "source": [
    "#practice2\n",
    "\n",
    "import numpy as np\n",
    "import statistics as stats\n",
    "import seaborn as sns\n",
    "import pandas as pd\n",
    "\n",
    "data=[34,54,42,41,67,32,87,54,67,98,34,56,89]\n",
    "numpymedian=np.median(data)\n",
    "statsmedian=stats.median(data)\n",
    "df=pd.DataFrame({\"values\" :[34,45,54,23,47]})\n",
    "pandasmedian=df[\"values\"].median()\n",
    "dataset=sns.load_dataset(\"iris\")\n",
    "medianofdataset=np.median(dataset[\"sepal_width\"])\n",
    "print(\"the median of numpy is :\",numpymedian)\n",
    "print(\"the median of stats is :\",statsmedian)\n",
    "print(\"the median of pandas is :\",pandasmedian)\n",
    "print(\"the median of seaborn is :\",medianofdataset)"
   ]
  }
 ],
 "metadata": {
  "kernelspec": {
   "display_name": "Python 3",
   "language": "python",
   "name": "python3"
  },
  "language_info": {
   "codemirror_mode": {
    "name": "ipython",
    "version": 3
   },
   "file_extension": ".py",
   "mimetype": "text/x-python",
   "name": "python",
   "nbconvert_exporter": "python",
   "pygments_lexer": "ipython3",
   "version": "3.12.0"
  }
 },
 "nbformat": 4,
 "nbformat_minor": 5
}
