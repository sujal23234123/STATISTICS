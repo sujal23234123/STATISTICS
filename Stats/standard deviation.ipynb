{
 "cells": [
  {
   "cell_type": "markdown",
   "id": "9b8414ce",
   "metadata": {},
   "source": [
    "METHOD1 -USING NUMPY\n"
   ]
  },
  {
   "cell_type": "code",
   "execution_count": null,
   "id": "efebba47",
   "metadata": {},
   "outputs": [
    {
     "name": "stdout",
     "output_type": "stream",
     "text": [
      "the sample variance of the data is  : 23.697343787102017\n",
      "the population variance of the data is  : 22.76767146427859\n"
     ]
    }
   ],
   "source": [
    "import numpy as np\n",
    "\n",
    "data=[34,44,55,23,67,45,67,89,34,55,12,32,89]\n",
    "\n",
    "sample_std=np.std(data,ddof=1)\n",
    "print(\"the sample standard deviation of the data is  :\",sample_std)\n",
    "\n",
    "population_std=np.std(data,ddof=0)\n",
    "print(\"the population standard deviation of the data is  :\",population_std)"
   ]
  },
  {
   "cell_type": "markdown",
   "id": "aa5bf79b",
   "metadata": {},
   "source": [
    "METHOD 2-USING PANDAS"
   ]
  },
  {
   "cell_type": "code",
   "execution_count": 7,
   "id": "024c815f",
   "metadata": {},
   "outputs": [
    {
     "name": "stdout",
     "output_type": "stream",
     "text": [
      "the sample standard deviation of the data is  : 23.87682064477103\n",
      "the population standard deviation of the data is  : 22.940107251494254\n"
     ]
    }
   ],
   "source": [
    "import pandas as pd\n",
    "\n",
    "data=[34,44,55,23,67,45,67,89,31,55,12,32,89]\n",
    "series=pd.Series(data)\n",
    "\n",
    "sample_std=series.std(ddof=1)\n",
    "print(\"the sample standard deviation of the data is  :\",sample_std)\n",
    "\n",
    "population_std=series.std(ddof=0)\n",
    "print(\"the population standard deviation of the data is  :\",population_std)\n"
   ]
  },
  {
   "cell_type": "markdown",
   "id": "68a54785",
   "metadata": {},
   "source": [
    "METHOD 3-USING SCIPY LIBRARY"
   ]
  },
  {
   "cell_type": "code",
   "execution_count": 8,
   "id": "a4c68920",
   "metadata": {},
   "outputs": [
    {
     "name": "stdout",
     "output_type": "stream",
     "text": [
      "the sample standard deviation of the data is  : 23.87682064477103\n",
      "the population standard deviation of the data is  : 22.940107251494254\n"
     ]
    }
   ],
   "source": [
    "from scipy import stats\n",
    "import math\n",
    "\n",
    "data=[34,44,55,23,67,45,67,89,31,55,12,32,89]\n",
    "\n",
    "sample_std=math.sqrt(stats.tvar(data))\n",
    "print(\"the sample standard deviation of the data is  :\",sample_std)\n",
    "\n",
    "population_std=math.sqrt(stats.tvar(data,ddof=0))\n",
    "print(\"the population standard deviation of the data is  :\",population_std)\n"
   ]
  },
  {
   "cell_type": "code",
   "execution_count": 4,
   "id": "30b93536",
   "metadata": {},
   "outputs": [
    {
     "name": "stdout",
     "output_type": "stream",
     "text": [
      "the sample standard deviation of data is : 23.33002357478449\n",
      "the population standard deviation of data is : 24.592004120580874\n",
      "the samplepandastd of data is : 24.592004120580874\n",
      "the population standard deviation of the data is : 23.33002357478449\n",
      "the sample standard deviation of stats dats is : 24.592004120580874\n",
      "the populationstandard deviation of the data of stats is : 23.33002357478449\n"
     ]
    }
   ],
   "source": [
    "#practice\n",
    "\n",
    "#numpy\n",
    "import numpy as np\n",
    "\n",
    "data=[34,65,32,76,98,65,34,23,56,78]\n",
    "\n",
    "samplenumpystd=np.std(data,ddof=0)\n",
    "print(\"the sample standard deviation of data is :\",samplenumpystd)\n",
    "\n",
    "populationnumpystd=np.std(data,ddof=1)\n",
    "print(\"the population standard deviation of data is :\",populationnumpystd)\n",
    "\n",
    "#pandas\n",
    "\n",
    "import pandas as pd\n",
    "\n",
    "series=pd.Series(data)\n",
    "\n",
    "samplepandasstd=series.std(ddof=1)\n",
    "print(\"the samplepandastd of data is :\",samplepandasstd)\n",
    "\n",
    "populationpandasstd=series.std(ddof=0)\n",
    "print(\"the population standard deviation of the data is :\",populationpandasstd)\n",
    "\n",
    "#scipy\n",
    "\n",
    "from scipy import stats\n",
    "import math\n",
    "\n",
    "samplestatsstd=math.sqrt(stats.tvar(data,ddof=1))\n",
    "print(\"the sample standard deviation of stats dats is :\",samplestatsstd)\n",
    "\n",
    "populationstatsstd=math.sqrt(stats.tvar(data,ddof=0))\n",
    "print(\"the populationstandard deviation of the data of stats is :\",populationstatsstd)\n",
    "\n"
   ]
  },
  {
   "cell_type": "code",
   "execution_count": 7,
   "id": "e9275010",
   "metadata": {},
   "outputs": [
    {
     "name": "stdout",
     "output_type": "stream",
     "text": [
      "samnumpy : 18.650805665838597\n",
      "popnumpy : 19.06997723177858\n",
      "sampandas : 18.650805665838597\n",
      "poppandas : 19.06997723177858\n",
      "samstats : 18.650805665838597\n",
      "popstats : 19.06997723177858\n"
     ]
    }
   ],
   "source": [
    "#practice 2\n",
    "\n",
    "import numpy as np\n",
    "import pandas as pd\n",
    "from scipy import stats\n",
    "import math\n",
    "\n",
    "data=[43,54,65,32,54,56,34,32,54,78,90,87,76,65,45,32,21,34,56,67,45,67,35]\n",
    "\n",
    "samnumpy=np.std(data,ddof=0)\n",
    "popnumpy=np.std(data,ddof=1)\n",
    "\n",
    "series=pd.Series(data)\n",
    "sampandas=series.std(ddof=0)\n",
    "poppandas=series.std(ddof=1)\n",
    "\n",
    "samstats=math.sqrt(stats.tvar(data,ddof=0))\n",
    "popstats=math.sqrt(stats.tvar(data,ddof=1))\n",
    "\n",
    "print(\"samnumpy :\",samnumpy)\n",
    "print(\"popnumpy :\",popnumpy)\n",
    "\n",
    "print(\"sampandas :\",sampandas)\n",
    "print(\"poppandas :\",poppandas)\n",
    "\n",
    "print(\"samstats :\",samstats)\n",
    "print(\"popstats :\",popstats)"
   ]
  },
  {
   "cell_type": "code",
   "execution_count": null,
   "id": "2c8894bc",
   "metadata": {},
   "outputs": [],
   "source": []
  },
  {
   "cell_type": "code",
   "execution_count": null,
   "id": "575506c2",
   "metadata": {},
   "outputs": [],
   "source": []
  },
  {
   "cell_type": "code",
   "execution_count": null,
   "id": "c689e364",
   "metadata": {},
   "outputs": [],
   "source": []
  }
 ],
 "metadata": {
  "kernelspec": {
   "display_name": "Python 3",
   "language": "python",
   "name": "python3"
  },
  "language_info": {
   "codemirror_mode": {
    "name": "ipython",
    "version": 3
   },
   "file_extension": ".py",
   "mimetype": "text/x-python",
   "name": "python",
   "nbconvert_exporter": "python",
   "pygments_lexer": "ipython3",
   "version": "3.12.0"
  }
 },
 "nbformat": 4,
 "nbformat_minor": 5
}
