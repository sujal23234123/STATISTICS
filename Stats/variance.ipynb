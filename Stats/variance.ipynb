{
 "cells": [
  {
   "cell_type": "markdown",
   "id": "cdf797bb",
   "metadata": {},
   "source": [
    "METHOD1-USING NUMPY\n"
   ]
  },
  {
   "cell_type": "code",
   "execution_count": 3,
   "id": "e95def04",
   "metadata": {},
   "outputs": [
    {
     "name": "stdout",
     "output_type": "stream",
     "text": [
      "the sample variance of the data is  : 846.6545454545455\n",
      "the population variance of the data is  : 769.6859504132233\n"
     ]
    }
   ],
   "source": [
    "import numpy as np\n",
    "\n",
    "data=[12,3,4,55,33,22,4,66,76,4,66]\n",
    "\n",
    "sample_variance=np.var(data,ddof = 1)\n",
    "population_variance=np.var(data,ddof=0)\n",
    "\n",
    "print(\"the sample variance of the data is  :\",sample_variance)\n",
    "print(\"the population variance of the data is  :\",population_variance)"
   ]
  },
  {
   "cell_type": "markdown",
   "id": "dd2e4a13",
   "metadata": {},
   "source": [
    "METHOD 2-USING PANDAS\n"
   ]
  },
  {
   "cell_type": "code",
   "execution_count": 5,
   "id": "25fa93cc",
   "metadata": {},
   "outputs": [
    {
     "name": "stdout",
     "output_type": "stream",
     "text": [
      "the sample variance of the data is : 846.6545454545455\n",
      "the population variance of the data is  : 769.6859504132233\n"
     ]
    }
   ],
   "source": [
    "import pandas as pd\n",
    "\n",
    "data=[12,3,4,55,33,22,4,66,76,4,66]\n",
    "series=pd.Series(data)\n",
    "\n",
    "sample_variance=series.var()\n",
    "print(\"the sample variance of the data is :\",sample_variance)\n",
    "\n",
    "population_variance=series.var(ddof= 0)\n",
    "print(\"the population variance of the data is  :\",population_variance)"
   ]
  },
  {
   "cell_type": "markdown",
   "id": "538b18dc",
   "metadata": {},
   "source": [
    "METHOD 3 -USING SCIPY LIBRARY\n"
   ]
  },
  {
   "cell_type": "code",
   "execution_count": 6,
   "id": "6a12897a",
   "metadata": {},
   "outputs": [
    {
     "name": "stdout",
     "output_type": "stream",
     "text": [
      "The sample variance of the data is : 846.6545454545457\n",
      "the population variance of the data is : 769.6859504132233\n"
     ]
    }
   ],
   "source": [
    "from scipy import stats\n",
    "\n",
    "data=[12,3,4,55,33,22,4,66,76,4,66]\n",
    "\n",
    "sample_variance1=stats.tvar(data)\n",
    "print(\"The sample variance of the data is :\",sample_variance1)\n",
    "\n",
    "population_variance1=stats.tvar(data,ddof=0)\n",
    "print(\"the population variance of the data is :\",population_variance1)\n"
   ]
  },
  {
   "cell_type": "code",
   "execution_count": 6,
   "id": "3c9bab26",
   "metadata": {},
   "outputs": [
    {
     "name": "stdout",
     "output_type": "stream",
     "text": [
      "the samplevariance of numpydata is : 669.8727272727273\n",
      "the popvariance of numpydata is : 608.9752066115702\n",
      "the variance of the data is : 669.8727272727273\n",
      "the population variance of data is : 608.9752066115702\n",
      "the sample variance of data is : 669.8727272727273\n",
      "the population variance od data is : 608.9752066115702\n"
     ]
    }
   ],
   "source": [
    "#practice\n",
    "\n",
    "#numpy\n",
    "\n",
    "import numpy as np\n",
    "\n",
    "data=[34,54,76,98,87,65,43,23,21,34,43]\n",
    "\n",
    "sampledatavar=np.var(data,ddof=1)\n",
    "populationdatavar=np.var(data,ddof=0)\n",
    "print(\"the samplevariance of numpydata is :\",sampledatavar)\n",
    "print(\"the popvariance of numpydata is :\",populationdatavar)\n",
    "\n",
    "#pandas\n",
    "\n",
    "import pandas as pd\n",
    "data=[34,54,76,98,87,65,43,23,21,34,43]\n",
    "series=pd.Series(data)\n",
    "\n",
    "samplepandasvar=series.var()\n",
    "print(\"the variance of the data is :\",samplepandasvar)\n",
    "\n",
    "populationpanadsvar=series.var(ddof=0)\n",
    "print(\"the population variance of data is :\",populationpanadsvar)\n",
    "\n",
    "#scipy\n",
    "\n",
    "from scipy import stats\n",
    "\n",
    "data=[34,54,76,98,87,65,43,23,21,34,43]\n",
    "\n",
    "samplestatsvar=stats.tvar(data,ddof=1)\n",
    "print(\"the sample variance of data is :\",samplestatsvar)\n",
    "\n",
    "popstatsvar=stats.tvar(data,ddof=0)\n",
    "print(\"the population variance od data is :\",popstatsvar)\n"
   ]
  },
  {
   "cell_type": "code",
   "execution_count": 7,
   "id": "52e1212d",
   "metadata": {},
   "outputs": [
    {
     "name": "stdout",
     "output_type": "stream",
     "text": [
      "samnumpy : 495.4948979591837\n",
      "popnumpy : 533.6098901098901\n",
      "sampandas : 533.6098901098901\n",
      "poppandas : 533.6098901098901\n",
      "samstats : 533.6098901098901\n",
      "popstats : 495.4948979591837\n"
     ]
    }
   ],
   "source": [
    "#practice 2\n",
    "\n",
    "import numpy as np\n",
    "import pandas as pd\n",
    "from scipy import stats\n",
    "\n",
    "data=[34,45,67,98,87,67,56,54,34,23,45,65,67,97]\n",
    "\n",
    "samnumpy=np.var(data,ddof=0)\n",
    "popnumpy=np.var(data,ddof=1)\n",
    "\n",
    "series=pd.Series(data)\n",
    "sampandas=series.var()\n",
    "poppandas=series.var(ddof=1)\n",
    "\n",
    "samstats=stats.tvar(data)\n",
    "popstats=stats.tvar(data,ddof=0)\n",
    "\n",
    "print(\"samnumpy :\",samnumpy)\n",
    "print(\"popnumpy :\",popnumpy)\n",
    "\n",
    "print(\"sampandas :\",sampandas)\n",
    "print(\"poppandas :\",poppandas)\n",
    "\n",
    "print(\"samstats :\",samstats)\n",
    "print(\"popstats :\",popstats)"
   ]
  },
  {
   "cell_type": "code",
   "execution_count": null,
   "id": "7240ab81",
   "metadata": {},
   "outputs": [],
   "source": []
  },
  {
   "cell_type": "code",
   "execution_count": null,
   "id": "1db3f10d",
   "metadata": {},
   "outputs": [],
   "source": []
  }
 ],
 "metadata": {
  "kernelspec": {
   "display_name": "Python 3",
   "language": "python",
   "name": "python3"
  },
  "language_info": {
   "codemirror_mode": {
    "name": "ipython",
    "version": 3
   },
   "file_extension": ".py",
   "mimetype": "text/x-python",
   "name": "python",
   "nbconvert_exporter": "python",
   "pygments_lexer": "ipython3",
   "version": "3.12.0"
  }
 },
 "nbformat": 4,
 "nbformat_minor": 5
}
