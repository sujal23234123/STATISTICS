{
 "cells": [
  {
   "cell_type": "code",
   "execution_count": null,
   "id": "7b5205e8",
   "metadata": {},
   "outputs": [],
   "source": []
  },
  {
   "cell_type": "code",
   "execution_count": 63,
   "id": "dc64f33b",
   "metadata": {},
   "outputs": [
    {
     "name": "stdout",
     "output_type": "stream",
     "text": [
      "tTest result is :0.017294312075676985\n",
      "Ptest result is :-2.4507015978902755\n",
      "the test is null\n"
     ]
    }
   ],
   "source": [
    "\n",
    "#Ttest and Ptest\n",
    "import numpy as np\n",
    "from scipy import stats\n",
    "\n",
    "group1=np.random.normal(75,10,30)\n",
    "group2=np.random.normal(80,12,30)\n",
    "\n",
    "ptest,ttest=stats.ttest_ind(group1,group2)\n",
    "\n",
    "print(f\"tTest result is :{ttest}\")\n",
    "print(f\"Ptest result is :{ptest}\")\n",
    "\n",
    "alpha=0.02\n",
    "if alpha>ptest:\n",
    "    print(\"the test is null\")\n",
    "else:\n",
    "    print(\"the test is not null\")\n"
   ]
  },
  {
   "cell_type": "code",
   "execution_count": null,
   "id": "8ad5003d",
   "metadata": {},
   "outputs": [],
   "source": []
  },
  {
   "cell_type": "code",
   "execution_count": null,
   "id": "4917e21f",
   "metadata": {},
   "outputs": [],
   "source": []
  },
  {
   "cell_type": "code",
   "execution_count": null,
   "id": "e2ab111b",
   "metadata": {},
   "outputs": [],
   "source": []
  },
  {
   "cell_type": "code",
   "execution_count": null,
   "id": "6412105b",
   "metadata": {},
   "outputs": [],
   "source": []
  },
  {
   "cell_type": "code",
   "execution_count": null,
   "id": "fce77e54",
   "metadata": {},
   "outputs": [],
   "source": []
  },
  {
   "cell_type": "code",
   "execution_count": null,
   "id": "7137bda3",
   "metadata": {},
   "outputs": [],
   "source": []
  }
 ],
 "metadata": {
  "kernelspec": {
   "display_name": "Python 3",
   "language": "python",
   "name": "python3"
  },
  "language_info": {
   "codemirror_mode": {
    "name": "ipython",
    "version": 3
   },
   "file_extension": ".py",
   "mimetype": "text/x-python",
   "name": "python",
   "nbconvert_exporter": "python",
   "pygments_lexer": "ipython3",
   "version": "3.12.0"
  }
 },
 "nbformat": 4,
 "nbformat_minor": 5
}
